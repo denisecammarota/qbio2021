{
  "nbformat": 4,
  "nbformat_minor": 0,
  "metadata": {
    "colab": {
      "name": "Chemostat_Scaling.ipynb",
      "provenance": [],
      "collapsed_sections": [],
      "authorship_tag": "ABX9TyNwNRfRH8Fuh2s8aXDnbQhr",
      "include_colab_link": true
    },
    "kernelspec": {
      "name": "python3",
      "display_name": "Python 3"
    },
    "language_info": {
      "name": "python"
    }
  },
  "cells": [
    {
      "cell_type": "markdown",
      "metadata": {
        "id": "view-in-github",
        "colab_type": "text"
      },
      "source": [
        "<a href=\"https://colab.research.google.com/github/denisecammarota/qbio2021/blob/main/Chemostat_Scaling.ipynb\" target=\"_parent\"><img src=\"https://colab.research.google.com/assets/colab-badge.svg\" alt=\"Open In Colab\"/></a>"
      ]
    },
    {
      "cell_type": "code",
      "metadata": {
        "id": "n2zTMBwGtvmQ"
      },
      "source": [
        "import numpy as np\n",
        "import matplotlib.pyplot as plt\n",
        "from sklearn.linear_model import LinearRegression"
      ],
      "execution_count": null,
      "outputs": []
    },
    {
      "cell_type": "markdown",
      "metadata": {
        "id": "QTjVA2u2LG95"
      },
      "source": [
        "## Using c as Qmax"
      ]
    },
    {
      "cell_type": "code",
      "metadata": {
        "id": "3UZlKSGHuYhL"
      },
      "source": [
        "def chemostat_scaling_Qmax(x,R_0,D):\n",
        "  #this is for the chemostat model species abundance, not resources\n",
        "  denominator = (3.6 * (10**-9)) * (x**(0.85))\n",
        "  abundance = R_0 - (D*(x**(0.33))/(5.37 * (x**-0.25) - D))\n",
        "  abundance = abundance/denominator\n",
        "  return abundance"
      ],
      "execution_count": null,
      "outputs": []
    },
    {
      "cell_type": "code",
      "metadata": {
        "id": "K7DhPv6LvHrS"
      },
      "source": [
        "M = np.linspace(1,1000,10000)\n",
        "R_0 = 10\n",
        "D = 0.1\n",
        "abundances = chemostat_scaling_Qmax(M,R_0,D)"
      ],
      "execution_count": null,
      "outputs": []
    },
    {
      "cell_type": "code",
      "metadata": {
        "colab": {
          "base_uri": "https://localhost:8080/",
          "height": 269
        },
        "id": "0RyXCwyQvgzZ",
        "outputId": "87c665dd-c978-4219-bd5c-4c194eeb0c13"
      },
      "source": [
        "plt.plot(M,abundances,'o')\n",
        "plt.xscale('log')\n",
        "plt.yscale('log')"
      ],
      "execution_count": null,
      "outputs": [
        {
          "output_type": "display_data",
          "data": {
            "image/png": "[encoded data removed]",
            "text/plain": [
              "<Figure size 432x288 with 1 Axes>"
            ]
          },
          "metadata": {
            "tags": [],
            "needs_background": "light"
          }
        }
      ]
    },
    {
      "cell_type": "code",
      "metadata": {
        "colab": {
          "base_uri": "https://localhost:8080/"
        },
        "id": "jMstXovLzBUH",
        "outputId": "14a8235d-2414-46e4-80b1-f35903bdbf71"
      },
      "source": [
        "logA = np.log(M)\n",
        "logB = np.log(abundances)\n",
        "m, c = np.polyfit(logA, logB, 1) #m slope, c intecept (https://stackoverflow.com/questions/43837179/best-fit-line-on-log-log-scales-in-python-2-7)\n",
        "print('slope: ',m)\n",
        "print('intercept: ',c)"
      ],
      "execution_count": null,
      "outputs": [
        {
          "output_type": "stream",
          "text": [
            "slope:  -0.8793794020426167\n",
            "intercept:  21.84424344993979\n"
          ],
          "name": "stdout"
        }
      ]
    },
    {
      "cell_type": "markdown",
      "metadata": {
        "id": "FuBNP0u7LPy3"
      },
      "source": [
        "## Using c as Qmin"
      ]
    },
    {
      "cell_type": "code",
      "metadata": {
        "id": "1OHeDh48LPBv"
      },
      "source": [
        "def chemostat_scaling_Qmin(x,R_0,D):\n",
        "  #this is for the chemostat model species abundance, not resources\n",
        "  denominator = (3.5 * (10**-9)) * (x**(0.85))\n",
        "  abundance = R_0 - (D*(x**(0.33))/(5.37 * (x**-0.25) - D))\n",
        "  abundance = abundance/denominator\n",
        "  return abundance"
      ],
      "execution_count": null,
      "outputs": []
    },
    {
      "cell_type": "code",
      "metadata": {
        "id": "IxcBcMbYNLQu"
      },
      "source": [
        "M = np.linspace(1,1000,10000)\n",
        "R_0 = 10\n",
        "D = 0.1\n",
        "abundances = chemostat_scaling_Qmin(M,R_0,D)"
      ],
      "execution_count": null,
      "outputs": []
    },
    {
      "cell_type": "code",
      "metadata": {
        "colab": {
          "base_uri": "https://localhost:8080/",
          "height": 269
        },
        "id": "hE11Ym1PNLOa",
        "outputId": "1faaf011-38d1-4452-ae40-976507fcf845"
      },
      "source": [
        "plt.plot(M,abundances,'o')\n",
        "plt.xscale('log')\n",
        "plt.yscale('log')"
      ],
      "execution_count": null,
      "outputs": [
        {
          "output_type": "display_data",
          "data": {
            "image/png": "[encoded data removed]",
            "text/plain": [
              "<Figure size 432x288 with 1 Axes>"
            ]
          },
          "metadata": {
            "tags": [],
            "needs_background": "light"
          }
        }
      ]
    },
    {
      "cell_type": "code",
      "metadata": {
        "colab": {
          "base_uri": "https://localhost:8080/"
        },
        "id": "sOMM9BdGNLLd",
        "outputId": "9fb50b18-3f13-4835-82f2-c8e9054b5ccc"
      },
      "source": [
        "logA = np.log(M)\n",
        "logB = np.log(abundances)\n",
        "m, c = np.polyfit(logA, logB, 1) #m slope, c intecept (https://stackoverflow.com/questions/43837179/best-fit-line-on-log-log-scales-in-python-2-7)\n",
        "print('slope: ',m)\n",
        "print('intercept: ',c)"
      ],
      "execution_count": null,
      "outputs": [
        {
          "output_type": "stream",
          "text": [
            "slope:  -0.8793794020426113\n",
            "intercept:  21.87241432690646\n"
          ],
          "name": "stdout"
        }
      ]
    },
    {
      "cell_type": "code",
      "metadata": {
        "id": "8u8mUrUbNLIS"
      },
      "source": [
        ""
      ],
      "execution_count": null,
      "outputs": []
    }
  ]
}