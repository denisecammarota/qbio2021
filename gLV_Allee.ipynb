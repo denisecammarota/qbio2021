{
  "nbformat": 4,
  "nbformat_minor": 0,
  "metadata": {
    "colab": {
      "name": "gLV_Allee.ipynb",
      "provenance": [],
      "collapsed_sections": [],
      "include_colab_link": true
    },
    "kernelspec": {
      "display_name": "Python 3",
      "language": "python",
      "name": "python3"
    },
    "language_info": {
      "codemirror_mode": {
        "name": "ipython",
        "version": 3
      },
      "file_extension": ".py",
      "mimetype": "text/x-python",
      "name": "python",
      "nbconvert_exporter": "python",
      "pygments_lexer": "ipython3",
      "version": "3.9.2"
    }
  },
  "cells": [
    {
      "cell_type": "markdown",
      "metadata": {
        "id": "view-in-github",
        "colab_type": "text"
      },
      "source": [
        "<a href=\"https://colab.research.google.com/github/denisecammarota/qbio2021/blob/main/gLV_Allee.ipynb\" target=\"_parent\"><img src=\"https://colab.research.google.com/assets/colab-badge.svg\" alt=\"Open In Colab\"/></a>"
      ]
    },
    {
      "cell_type": "code",
      "metadata": {
        "id": "e4o6yvNJygH7"
      },
      "source": [
        "import numpy as np\n",
        "import scipy as sc\n",
        "import scipy.integrate as intg\n",
        "import matplotlib as mpl\n",
        "import matplotlib.pyplot as plt\n",
        "import seaborn as sns\n",
        "\n",
        "sns.set_style('darkgrid')\n",
        "\n",
        "rng = np.random.default_rng(seed=3141592)\n",
        "\n",
        "# r random 0 1\n",
        "# K random 5 6\n",
        "# a random 0 .05\n"
      ],
      "execution_count": null,
      "outputs": []
    },
    {
      "cell_type": "markdown",
      "metadata": {
        "id": "NShSTe320urm"
      },
      "source": [
        "**Lotka-Volterra : N species / NO Allee**"
      ]
    },
    {
      "cell_type": "code",
      "metadata": {
        "id": "MepMvuGtx5qi"
      },
      "source": [
        "def gLV(t, X, A, K, r):\n",
        "    X[X < 1e-9] = 0.\n",
        "    return (X * r) * ((K - (A @ X))/K )"
      ],
      "execution_count": null,
      "outputs": []
    },
    {
      "cell_type": "code",
      "metadata": {
        "colab": {
          "base_uri": "https://localhost:8080/"
        },
        "id": "SSlMnKs2yOdn",
        "outputId": "dfa020fd-5a99-445c-a6eb-29642fb02fef"
      },
      "source": [
        "aux_N = 5\n",
        "aux_r = np.array([0.3020045, 0.3282690, 0.2337889, 0.3195188, 0.2478758]) # rng.uniform(0, 1, size=aux_N)\n",
        "aux_K = rng.uniform(5, 6, size=aux_N)\n",
        "aux_A = rng.uniform(0, 0.1, size=(aux_N, aux_N))\n",
        "aux_A += np.diag(np.ones(aux_N)) - np.diag(aux_A.diagonal())\n",
        "\n",
        "gLV(t=0, X=np.ones(aux_N), A=aux_A, K=aux_K, r=aux_r)"
      ],
      "execution_count": null,
      "outputs": [
        {
          "output_type": "execute_result",
          "data": {
            "text/plain": [
              "array([0.22769914, 0.26149907, 0.18490233, 0.250149  , 0.19747179])"
            ]
          },
          "metadata": {
            "tags": []
          },
          "execution_count": 3
        }
      ]
    },
    {
      "cell_type": "code",
      "metadata": {
        "id": "E8VjPg_r4d4v"
      },
      "source": [
        "sol = intg.solve_ivp(fun=gLV, t_span=(0., 1e2), y0=np.ones(aux_N), args=(aux_A, aux_K, aux_r))"
      ],
      "execution_count": null,
      "outputs": []
    },
    {
      "cell_type": "code",
      "metadata": {
        "colab": {
          "base_uri": "https://localhost:8080/",
          "height": 312
        },
        "id": "axffv9TO4-jm",
        "outputId": "7123fd01-7675-4b76-d09f-bfcf6839d66a"
      },
      "source": [
        "fig, ax = plt.subplots()\n",
        "\n",
        "ax.plot(sol.t, sol.y.T)\n",
        "\n",
        "plt.title(\"gLV Evolution\")\n",
        "ax.set_xlabel(\"Time\")\n",
        "ax.set_ylabel(\"Abundances\")\n",
        "\n",
        "# plt.legend()\n",
        "# ax.set_yscale('log')\n",
        "# ax.set_xlim(0,5)"
      ],
      "execution_count": null,
      "outputs": [
        {
          "output_type": "execute_result",
          "data": {
            "text/plain": [
              "Text(0, 0.5, 'Abundances')"
            ]
          },
          "metadata": {
            "tags": []
          },
          "execution_count": 5
        },
        {
          "output_type": "display_data",
          "data": {
            "image/png": "[encoded data removed]",
            "text/plain": [
              "<Figure size 432x288 with 1 Axes>"
            ]
          },
          "metadata": {
            "tags": [],
            "needs_background": "light"
          }
        }
      ]
    },
    {
      "cell_type": "code",
      "metadata": {
        "id": "k4vKk0MWSwI8"
      },
      "source": [
        ""
      ],
      "execution_count": null,
      "outputs": []
    },
    {
      "cell_type": "markdown",
      "metadata": {
        "id": "t08vUtmxSxIk"
      },
      "source": [
        "**Animation**"
      ]
    },
    {
      "cell_type": "code",
      "metadata": {
        "id": "Cm7-vNsUURgb",
        "colab": {
          "base_uri": "https://localhost:8080/"
        },
        "outputId": "2e55eeb8-5d17-41ae-9fb2-8f7ea19ffc41"
      },
      "source": [
        "import os\n",
        "from moviepy.editor import ImageSequenceClip\n",
        "from moviepy.video.io.bindings import mplfig_to_npimage\n",
        "\n",
        "\n",
        "def gif(filename, array, fps=30, scale=1.0, mpl=False):\n",
        "    \"\"\"Creates a gif given a stack of images using moviepy\n",
        "    Notes\n",
        "    -----\n",
        "    works with current Github version of moviepy (not the pip version)\n",
        "    https://github.com/Zulko/moviepy/commit/d4c9c37bc88261d8ed8b5d9b7c317d13b2cdf62e\n",
        "    Usage\n",
        "    -----\n",
        "    >>> X = randn(100, 64, 64)\n",
        "    >>> gif('test.gif', X)\n",
        "    Parameters\n",
        "    ----------\n",
        "    filename : string\n",
        "        The filename of the gif to write to\n",
        "    array : array_like\n",
        "        A numpy array that contains a sequence of images\n",
        "    fps : int\n",
        "        frames per second (default: 10)\n",
        "    scale : float\n",
        "        how much to rescale each image by (default: 1.0)\n",
        "    \"\"\"\n",
        "\n",
        "    # ensure that the file has the .gif extension\n",
        "    fname, _ = os.path.splitext(filename)\n",
        "    filename = fname + '.gif'\n",
        "\n",
        "    # transform mpl figures into images\n",
        "    if mpl is True:\n",
        "      array = np.array([mplfig_to_npimage(fig) for fig in array])\n",
        "\n",
        "    # copy into the color dimension if the images are black and white\n",
        "    if array.ndim == 3:\n",
        "        array = array[..., np.newaxis] * np.ones(3)\n",
        "\n",
        "    # make the moviepy clip\n",
        "    clip = ImageSequenceClip(list(array), fps=fps).resize(scale)\n",
        "    clip.write_gif(filename, fps=fps)\n",
        "    return clip"
      ],
      "execution_count": null,
      "outputs": [
        {
          "output_type": "stream",
          "text": [
            "Imageio: 'ffmpeg-linux64-v3.3.1' was not found on your computer; downloading it now.\n",
            "Try 1. Download from https://github.com/imageio/imageio-binaries/raw/master/ffmpeg/ffmpeg-linux64-v3.3.1 (43.8 MB)\n",
            "Downloading: 8192/45929032 bytes (0.0%)\b\b\b\b\b\b\b\b\b\b\b\b\b\b\b\b\b\b\b\b\b\b\b\b\b\b1646592/45929032 bytes (3.6%)\b\b\b\b\b\b\b\b\b\b\b\b\b\b\b\b\b\b\b\b\b\b\b\b\b\b\b\b\b4005888/45929032 bytes (8.7%)\b\b\b\b\b\b\b\b\b\b\b\b\b\b\b\b\b\b\b\b\b\b\b\b\b\b\b\b\b6340608/45929032 bytes (13.8%)\b\b\b\b\b\b\b\b\b\b\b\b\b\b\b\b\b\b\b\b\b\b\b\b\b\b\b\b\b\b8839168/45929032 bytes (19.2%)\b\b\b\b\b\b\b\b\b\b\b\b\b\b\b\b\b\b\b\b\b\b\b\b\b\b\b\b\b\b11018240/45929032 bytes (24.0%)\b\b\b\b\b\b\b\b\b\b\b\b\b\b\b\b\b\b\b\b\b\b\b\b\b\b\b\b\b\b\b13352960/45929032 bytes (29.1%)\b\b\b\b\b\b\b\b\b\b\b\b\b\b\b\b\b\b\b\b\b\b\b\b\b\b\b\b\b\b\b15736832/45929032 bytes (34.3%)\b\b\b\b\b\b\b\b\b\b\b\b\b\b\b\b\b\b\b\b\b\b\b\b\b\b\b\b\b\b\b18063360/45929032 bytes (39.3%)\b\b\b\b\b\b\b\b\b\b\b\b\b\b\b\b\b\b\b\b\b\b\b\b\b\b\b\b\b\b\b20258816/45929032 bytes (44.1%)\b\b\b\b\b\b\b\b\b\b\b\b\b\b\b\b\b\b\b\b\b\b\b\b\b\b\b\b\b\b\b22642688/45929032 bytes (49.3%)\b\b\b\b\b\b\b\b\b\b\b\b\b\b\b\b\b\b\b\b\b\b\b\b\b\b\b\b\b\b\b24944640/45929032 bytes (54.3%)\b\b\b\b\b\b\b\b\b\b\b\b\b\b\b\b\b\b\b\b\b\b\b\b\b\b\b\b\b\b\b27189248/45929032 bytes (59.2%)\b\b\b\b\b\b\b\b\b\b\b\b\b\b\b\b\b\b\b\b\b\b\b\b\b\b\b\b\b\b\b29483008/45929032 bytes (64.2%)\b\b\b\b\b\b\b\b\b\b\b\b\b\b\b\b\b\b\b\b\b\b\b\b\b\b\b\b\b\b\b31678464/45929032 bytes (69.0%)\b\b\b\b\b\b\b\b\b\b\b\b\b\b\b\b\b\b\b\b\b\b\b\b\b\b\b\b\b\b\b33996800/45929032 bytes (74.0%)\b\b\b\b\b\b\b\b\b\b\b\b\b\b\b\b\b\b\b\b\b\b\b\b\b\b\b\b\b\b\b36429824/45929032 bytes (79.3%)\b\b\b\b\b\b\b\b\b\b\b\b\b\b\b\b\b\b\b\b\b\b\b\b\b\b\b\b\b\b\b38895616/45929032 bytes (84.7%)\b\b\b\b\b\b\b\b\b\b\b\b\b\b\b\b\b\b\b\b\b\b\b\b\b\b\b\b\b\b\b40935424/45929032 bytes (89.1%)\b\b\b\b\b\b\b\b\b\b\b\b\b\b\b\b\b\b\b\b\b\b\b\b\b\b\b\b\b\b\b43114496/45929032 bytes (93.9%)\b\b\b\b\b\b\b\b\b\b\b\b\b\b\b\b\b\b\b\b\b\b\b\b\b\b\b\b\b\b\b45473792/45929032 bytes (99.0%)\b\b\b\b\b\b\b\b\b\b\b\b\b\b\b\b\b\b\b\b\b\b\b\b\b\b\b\b\b\b\b45929032/45929032 bytes (100.0%)\n",
            "  Done\n",
            "File saved as /root/.imageio/ffmpeg/ffmpeg-linux64-v3.3.1.\n"
          ],
          "name": "stdout"
        }
      ]
    },
    {
      "cell_type": "code",
      "metadata": {
        "colab": {
          "base_uri": "https://localhost:8080/"
        },
        "id": "m3UxgbFmS_vE",
        "outputId": "aa535fb4-ad6e-4d19-c97d-115fe5b7c004"
      },
      "source": [
        "aux_N = 20\n",
        "aux_r = rng.uniform(0, 1, size=aux_N)\n",
        "aux_K = rng.uniform(5, 6, size=aux_N)\n",
        "aux_A = rng.uniform(-0.3, 0.3, size=(aux_N, aux_N))\n",
        "aux_A += np.diag(np.ones(aux_N)) - np.diag(aux_A.diagonal())\n",
        "\n",
        "gLV(t=0, X=np.ones(aux_N), A=aux_A, K=aux_K, r=aux_r)"
      ],
      "execution_count": null,
      "outputs": [
        {
          "output_type": "execute_result",
          "data": {
            "text/plain": [
              "array([0.40403344, 0.78834865, 0.31969829, 0.65311148, 0.93345962,\n",
              "       0.05549673, 0.40103934, 0.22801088, 0.07550979, 0.30844108,\n",
              "       0.3368475 , 0.36519579, 0.60573771, 0.27200857, 0.61333563,\n",
              "       0.49392933, 0.21770411, 0.17006532, 0.08106576, 0.36818761])"
            ]
          },
          "metadata": {
            "tags": []
          },
          "execution_count": 7
        }
      ]
    },
    {
      "cell_type": "code",
      "metadata": {
        "id": "FRarW6UaS_vG"
      },
      "source": [
        "sol = intg.solve_ivp(fun=gLV, t_span=(0., 1e2), y0=np.ones(aux_N), t_eval=np.linspace(0., 1e2, num=62), args=(aux_A, aux_K, aux_r))"
      ],
      "execution_count": null,
      "outputs": []
    },
    {
      "cell_type": "code",
      "metadata": {
        "colab": {
          "base_uri": "https://localhost:8080/",
          "height": 312
        },
        "id": "_8-5tsMNS_vH",
        "outputId": "d3361d9a-d706-4d7b-b85e-0cba29b91325"
      },
      "source": [
        "fig, ax = plt.subplots()\n",
        "\n",
        "ax.plot(sol.t, sol.y.T)\n",
        "\n",
        "plt.title(\"gLV Evolution\")\n",
        "ax.set_xlabel(\"Time\")\n",
        "ax.set_ylabel(\"Abundances\")\n",
        "\n",
        "# plt.legend()\n",
        "# ax.set_yscale('log')\n",
        "# ax.set_xlim(0,5)"
      ],
      "execution_count": null,
      "outputs": [
        {
          "output_type": "execute_result",
          "data": {
            "text/plain": [
              "Text(0, 0.5, 'Abundances')"
            ]
          },
          "metadata": {
            "tags": []
          },
          "execution_count": 9
        },
        {
          "output_type": "display_data",
          "data": {
            "image/png": "[encoded data removed]",
            "text/plain": [
              "<Figure size 432x288 with 1 Axes>"
            ]
          },
          "metadata": {
            "tags": [],
            "needs_background": "light"
          }
        }
      ]
    },
    {
      "cell_type": "code",
      "metadata": {
        "colab": {
          "base_uri": "https://localhost:8080/",
          "height": 346
        },
        "id": "2pg8Vum0UWAr",
        "outputId": "d3b41db6-9c0f-4f1e-dbe8-0f2be8b87c18"
      },
      "source": [
        "# matplot subplot\n",
        "fig, ax = plt.subplots()\n",
        "\n",
        "# method to get frames\n",
        "def make_frame(idx):\n",
        "    \n",
        "    # clear\n",
        "    ax.clear()\n",
        "    \n",
        "    # plotting line\n",
        "    ax.plot(sol.t[:idx], sol.y.T[:idx])\n",
        "    if idx >= 1:\n",
        "        ax.plot(sol.t[idx-1], np.array([sol.y.T[idx-1]]), 'o')\n",
        "    \n",
        "    ax.set_xlabel(\"Time\")\n",
        "    ax.set_ylabel(\"Abundances\")\n",
        "    ax.set_ylim(-0.1,9.)\n",
        "    \n",
        "    # returning mumpy image\n",
        "    return mplfig_to_npimage(fig)\n",
        "\n",
        "\n",
        "gif(\"gLV_evolution.gif\", np.array([make_frame(x) for x in range(4, len(sol.t))]))"
      ],
      "execution_count": null,
      "outputs": [
        {
          "output_type": "stream",
          "text": [
            "\n",
            "[MoviePy] Building file gLV_evolution.gif with imageio\n"
          ],
          "name": "stdout"
        },
        {
          "output_type": "stream",
          "text": [
            "100%|██████████| 59/59 [00:01<00:00, 52.55it/s]\n"
          ],
          "name": "stderr"
        },
        {
          "output_type": "execute_result",
          "data": {
            "text/plain": [
              "<moviepy.video.io.ImageSequenceClip.ImageSequenceClip at 0x7f36ec566bd0>"
            ]
          },
          "metadata": {
            "tags": []
          },
          "execution_count": 10
        },
        {
          "output_type": "display_data",
          "data": {
            "image/png": "[encoded data removed]",
            "text/plain": [
              "<Figure size 432x288 with 1 Axes>"
            ]
          },
          "metadata": {
            "tags": [],
            "needs_background": "light"
          }
        }
      ]
    },
    {
      "cell_type": "markdown",
      "metadata": {
        "id": "vk9cNXkc9rB5"
      },
      "source": [
        "**Lotka-Volterra : N species / Allee**"
      ]
    },
    {
      "cell_type": "markdown",
      "metadata": {
        "id": "j2aHfI2qzIfB"
      },
      "source": [
        "### Neutral Model"
      ]
    },
    {
      "cell_type": "code",
      "metadata": {
        "id": "AORnXJzr9rB6"
      },
      "source": [
        "def gLV_allee(t, X, A, K, r, C, m):\n",
        "    X[X < 1e-9] = 0.\n",
        "    return (X * r) * ((K - (A @ X))/K ) * (X/(X + C)) - m * X"
      ],
      "execution_count": null,
      "outputs": []
    },
    {
      "cell_type": "code",
      "metadata": {
        "id": "kAeZSljql620"
      },
      "source": [
        "def start_points_two(a,b,m,K,c):\n",
        "  oor = K*(b-m)\n",
        "  frt = oor**2 - (4*b*(-K*m*c)/(a-1))\n",
        "  start1 = (oor + np.sqrt(frt))/(2*b)\n",
        "  start2 = (oor - np.sqrt(frt))/(2*b)\n",
        "  return start1,start2"
      ],
      "execution_count": null,
      "outputs": []
    },
    {
      "cell_type": "code",
      "metadata": {
        "id": "kSI3IoY4B7Jt"
      },
      "source": [
        "def start_points_notequal(a,b,m,K,c,N_aux):\n",
        "  apol = b\n",
        "  bpol = K*(m-b)\n",
        "  cpol = K*m*c*((a*(2-N_aux)-1)/(a-1))\n",
        "  root1 = (-bpol + np.sqrt(bpol**2 - 4*apol*cpol))/(2*apol)\n",
        "  root2 = (-bpol - np.sqrt(bpol**2 - 4*apol*cpol))/(2*apol)\n",
        "  root1_diff = -(K*m*c)/(b*(a-1)*root1) \n",
        "  root2_diff = -(K*m*c)/(b*(a-1)*root2)\n",
        "  return root1,root2,root1_diff,root2_diff"
      ],
      "execution_count": null,
      "outputs": []
    },
    {
      "cell_type": "code",
      "metadata": {
        "id": "FleCwyx5Ivzz"
      },
      "source": [
        "def start_points_equal(a,b,m,K,c,N_aux):\n",
        "  apol = b*(a*(N_aux-1)+1)\n",
        "  bpol = K*(m-b)\n",
        "  cpol = K*m*c\n",
        "  root1 = (-bpol + np.sqrt(bpol**2 - 4*apol*cpol))/(2*apol)\n",
        "  root2 = (-bpol - np.sqrt(bpol**2 - 4*apol*cpol))/(2*apol)\n",
        "  return root1,root2"
      ],
      "execution_count": null,
      "outputs": []
    },
    {
      "cell_type": "code",
      "metadata": {
        "id": "BmDOA8AZzbzg"
      },
      "source": [
        "def eq_neutral(a,b,m,K,c,n):\n",
        "  oor = K*(b-m)\n",
        "  frt = oor**2 - 4*((n-1)*a+1)*K*b*m*c\n",
        "  root1 = (oor + np.sqrt(frt))/(2*b*((n-1)*a+1))\n",
        "  root2 = (oor - np.sqrt(frt))/(2*b*((n-1)*a+1))\n",
        "  return root1,root2"
      ],
      "execution_count": null,
      "outputs": []
    },
    {
      "cell_type": "code",
      "metadata": {
        "colab": {
          "base_uri": "https://localhost:8080/"
        },
        "id": "pEZjOUqO9rB7",
        "outputId": "96b74450-678b-4e69-9c3d-88b362c3b766"
      },
      "source": [
        "aux_N = 2\n",
        "aux_r = 0.4\n",
        "aux_K = 5\n",
        "aux_A = np.zeros((aux_N, aux_N)) + 0.02\n",
        "aux_A += np.diag(np.ones(aux_N)) - np.diag(aux_A.diagonal())\n",
        "aux_C = np.zeros(aux_N) + 0.01\n",
        "aux_m = np.zeros(aux_N) + 0.3\n",
        "start1,start2 = start_points_two(aux_A[0,1],aux_r,aux_m[0],aux_K,aux_C[0])\n",
        "gLV_allee(t=0, X=np.ones(aux_N)+np.array([start1,start2]), A=aux_A, K=aux_K, r=aux_r, C=aux_C, m=aux_m)"
      ],
      "execution_count": null,
      "outputs": [
        {
          "output_type": "execute_result",
          "data": {
            "text/plain": [
              "array([-0.17777454,  0.01126659])"
            ]
          },
          "metadata": {
            "tags": []
          },
          "execution_count": 15
        }
      ]
    },
    {
      "cell_type": "code",
      "metadata": {
        "id": "7fg-7MGv9rB7"
      },
      "source": [
        "sol = intg.solve_ivp(fun=gLV_allee, t_span=(0., 1e3), method=\"Radau\", y0=np.array([start1,start2]), args=(aux_A, aux_K, aux_r, aux_C, aux_m))"
      ],
      "execution_count": null,
      "outputs": []
    },
    {
      "cell_type": "code",
      "metadata": {
        "colab": {
          "base_uri": "https://localhost:8080/",
          "height": 312
        },
        "id": "7b5FTUyo9rB8",
        "outputId": "b746f665-9c0d-47d1-b8e5-0345ceffcd0e"
      },
      "source": [
        "fig, ax = plt.subplots()\n",
        "\n",
        "ax.plot(sol.t, sol.y.T)\n",
        "plt.title(\"gLV Evolution\")\n",
        "ax.set_xlabel(\"Time\")\n",
        "ax.set_ylabel(\"Abundances\")\n",
        "# plt.legend()\n",
        "# ax.set_yscale('log')\n",
        "# ax.set_xlim(0,5)"
      ],
      "execution_count": null,
      "outputs": [
        {
          "output_type": "execute_result",
          "data": {
            "text/plain": [
              "Text(0, 0.5, 'Abundances')"
            ]
          },
          "metadata": {
            "tags": []
          },
          "execution_count": 17
        },
        {
          "output_type": "display_data",
          "data": {
            "image/png": "[encoded data removed]",
            "text/plain": [
              "<Figure size 432x288 with 1 Axes>"
            ]
          },
          "metadata": {
            "tags": [],
            "needs_background": "light"
          }
        }
      ]
    },
    {
      "cell_type": "markdown",
      "metadata": {
        "id": "M540jBQ1LSVA"
      },
      "source": [
        "## All N are equal N = 5"
      ]
    },
    {
      "cell_type": "code",
      "metadata": {
        "colab": {
          "base_uri": "https://localhost:8080/"
        },
        "id": "dh9QROBP02c7",
        "outputId": "afc5806e-e826-43a7-9a15-347678a80a11"
      },
      "source": [
        "aux_N = 5\n",
        "aux_r = 0.4\n",
        "aux_K = 5\n",
        "aux_A = np.zeros((aux_N, aux_N)) + 0.02\n",
        "aux_A += np.diag(np.ones(aux_N)) - np.diag(aux_A.diagonal())\n",
        "aux_C = np.zeros(aux_N) + 0.01\n",
        "aux_m = np.zeros(aux_N) + 0.3\n",
        "start1,start2 = start_points_equal(aux_A[0,1],aux_r,aux_m[0],aux_K,aux_C[0],aux_N)\n",
        "gLV_allee(t=0, X=np.zeros(aux_N)+start1, A=aux_A, K=aux_K, r=aux_r, C=aux_C, m=aux_m)"
      ],
      "execution_count": null,
      "outputs": [
        {
          "output_type": "execute_result",
          "data": {
            "text/plain": [
              "array([-5.55111512e-17, -5.55111512e-17, -5.55111512e-17, -5.55111512e-17,\n",
              "        0.00000000e+00])"
            ]
          },
          "metadata": {
            "tags": []
          },
          "execution_count": 58
        }
      ]
    },
    {
      "cell_type": "code",
      "metadata": {
        "id": "oatF2Pwk02Z_"
      },
      "source": [
        "sol = intg.solve_ivp(fun=gLV_allee, t_span=(0., 1e3), method=\"Radau\", y0=np.zeros(aux_N)+start2, args=(aux_A, aux_K, aux_r, aux_C, aux_m))"
      ],
      "execution_count": null,
      "outputs": []
    },
    {
      "cell_type": "code",
      "metadata": {
        "colab": {
          "base_uri": "https://localhost:8080/",
          "height": 312
        },
        "id": "MbulRgjd02Xg",
        "outputId": "e9c9ce41-72d6-4810-94ba-ca08e9c5ac46"
      },
      "source": [
        "fig, ax = plt.subplots()\n",
        "\n",
        "ax.plot(sol.t, sol.y.T)\n",
        "plt.title(\"gLV Evolution\")\n",
        "ax.set_xlabel(\"Time\")\n",
        "ax.set_ylabel(\"Abundances\")\n",
        "# ax.set_yscale('log')\n",
        "# ax.set_xlim(0,5)"
      ],
      "execution_count": null,
      "outputs": [
        {
          "output_type": "execute_result",
          "data": {
            "text/plain": [
              "Text(0, 0.5, 'Abundances')"
            ]
          },
          "metadata": {
            "tags": []
          },
          "execution_count": 60
        },
        {
          "output_type": "display_data",
          "data": {
            "image/png": "[encoded data removed]",
            "text/plain": [
              "<Figure size 432x288 with 1 Axes>"
            ]
          },
          "metadata": {
            "tags": [],
            "needs_background": "light"
          }
        }
      ]
    },
    {
      "cell_type": "markdown",
      "metadata": {
        "id": "m5lfpSTpMg-O"
      },
      "source": [
        "## N = 5, all equal, one different"
      ]
    },
    {
      "cell_type": "code",
      "metadata": {
        "id": "dbs1X-TjMnZW"
      },
      "source": [
        "aux_N = 5\n",
        "aux_r = 0.4\n",
        "aux_K = 5\n",
        "aux_A = np.zeros((aux_N, aux_N)) + 0.02\n",
        "aux_A += np.diag(np.ones(aux_N)) - np.diag(aux_A.diagonal())\n",
        "aux_C = np.zeros(aux_N) + 0.01\n",
        "aux_m = np.zeros(aux_N) + 0.3\n",
        "start1,start2,start1_diff,start2_diff = start_points_notequal(aux_A[0,1],aux_r,aux_m[0],aux_K,aux_C[0],aux_N)"
      ],
      "execution_count": null,
      "outputs": []
    },
    {
      "cell_type": "code",
      "metadata": {
        "id": "UyfQ_QyQMnW2"
      },
      "source": [
        "sol = intg.solve_ivp(fun=gLV_allee, t_span=(0., 1e3), method=\"Radau\", y0=np.array([start2,start2_diff,start2_diff,start2_diff,start2_diff]), args=(aux_A, aux_K, aux_r, aux_C, aux_m))"
      ],
      "execution_count": null,
      "outputs": []
    },
    {
      "cell_type": "code",
      "metadata": {
        "colab": {
          "base_uri": "https://localhost:8080/",
          "height": 312
        },
        "id": "0tae2c7rMnR-",
        "outputId": "0b3e2525-5996-435d-e3cc-4c07068eae1d"
      },
      "source": [
        "fig, ax = plt.subplots()\n",
        "\n",
        "ax.plot(sol.t, sol.y.T)\n",
        "plt.title(\"gLV Evolution\")\n",
        "ax.set_xlabel(\"Time\")\n",
        "ax.set_ylabel(\"Abundances\")\n",
        "plt.text(0,0.1,r'$N_{-}$, 1 species')\n",
        "plt.text(0,1.1,r'Calculated, 4 species')\n",
        "# ax.set_yscale('log')\n",
        "# ax.set_xlim(0,5)"
      ],
      "execution_count": null,
      "outputs": [
        {
          "output_type": "execute_result",
          "data": {
            "text/plain": [
              "Text(0, 1.1, 'Calculated, 4 species')"
            ]
          },
          "metadata": {
            "tags": []
          },
          "execution_count": 54
        },
        {
          "output_type": "display_data",
          "data": {
            "image/png": "[encoded data removed]",
            "text/plain": [
              "<Figure size 432x288 with 1 Axes>"
            ]
          },
          "metadata": {
            "tags": [],
            "needs_background": "light"
          }
        }
      ]
    },
    {
      "cell_type": "markdown",
      "metadata": {
        "id": "MOB--C69Ri1q"
      },
      "source": [
        "## All N are equal N = 0 (trivial)"
      ]
    },
    {
      "cell_type": "code",
      "metadata": {
        "colab": {
          "base_uri": "https://localhost:8080/"
        },
        "id": "OpqbLjnFRiXV",
        "outputId": "b1695377-30e6-4f58-a193-ce06223dc731"
      },
      "source": [
        "aux_N = 5\n",
        "aux_r = 0.4\n",
        "aux_K = 5\n",
        "aux_A = np.zeros((aux_N, aux_N)) + 0.02\n",
        "aux_A += np.diag(np.ones(aux_N)) - np.diag(aux_A.diagonal())\n",
        "aux_C = np.zeros(aux_N) + 0.01\n",
        "aux_m = np.zeros(aux_N) + 0.3\n",
        "start1,start2 = start_points_equal(aux_A[0,1],aux_r,aux_m[0],aux_K,aux_C[0],aux_N)\n",
        "gLV_allee(t=0, X=np.zeros(aux_N)+start1, A=aux_A, K=aux_K, r=aux_r, C=aux_C, m=aux_m)"
      ],
      "execution_count": null,
      "outputs": [
        {
          "output_type": "execute_result",
          "data": {
            "text/plain": [
              "array([-5.55111512e-17, -5.55111512e-17, -5.55111512e-17, -5.55111512e-17,\n",
              "        0.00000000e+00])"
            ]
          },
          "metadata": {
            "tags": []
          },
          "execution_count": 62
        }
      ]
    },
    {
      "cell_type": "code",
      "metadata": {
        "id": "XtSkrX8nRiSb"
      },
      "source": [
        "sol = intg.solve_ivp(fun=gLV_allee, t_span=(0., 1e3), method=\"Radau\", y0=np.zeros(aux_N), args=(aux_A, aux_K, aux_r, aux_C, aux_m))"
      ],
      "execution_count": null,
      "outputs": []
    },
    {
      "cell_type": "code",
      "metadata": {
        "colab": {
          "base_uri": "https://localhost:8080/",
          "height": 312
        },
        "id": "0Dnjn-ZXRiQC",
        "outputId": "664252dc-9b18-49e9-f2e3-1c5ded56f093"
      },
      "source": [
        "fig, ax = plt.subplots()\n",
        "\n",
        "ax.plot(sol.t, sol.y.T)\n",
        "plt.title(\"gLV Evolution\")\n",
        "ax.set_xlabel(\"Time\")\n",
        "ax.set_ylabel(\"Abundances\")\n",
        "# ax.set_yscale('log')\n",
        "# ax.set_xlim(0,5)"
      ],
      "execution_count": null,
      "outputs": [
        {
          "output_type": "execute_result",
          "data": {
            "text/plain": [
              "Text(0, 0.5, 'Abundances')"
            ]
          },
          "metadata": {
            "tags": []
          },
          "execution_count": 64
        },
        {
          "output_type": "display_data",
          "data": {
            "image/png": "[encoded data removed]",
            "text/plain": [
              "<Figure size 432x288 with 1 Axes>"
            ]
          },
          "metadata": {
            "tags": [],
            "needs_background": "light"
          }
        }
      ]
    },
    {
      "cell_type": "code",
      "metadata": {
        "id": "d9FhOsB3RiMS"
      },
      "source": [
        ""
      ],
      "execution_count": null,
      "outputs": []
    }
  ]
}